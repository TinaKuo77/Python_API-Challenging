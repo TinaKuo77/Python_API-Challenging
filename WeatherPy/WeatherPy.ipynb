{
 "cells": [
  {
   "cell_type": "code",
   "execution_count": 1,
   "metadata": {},
   "outputs": [],
   "source": [
    "# Import Dependencies\n",
    "import pandas as pd\n",
    "import numpy as np\n",
    "import matplotlib.pyplot as plt\n",
    "import scipy.stats as sts\n",
    "import time\n",
    "import requests\n",
    "from scipy.stats import linregress"
   ]
  },
  {
   "cell_type": "code",
   "execution_count": 2,
   "metadata": {},
   "outputs": [],
   "source": [
    "# Import API key\n",
    "from config import weather_api_key \n",
    "\n",
    "# citipy to determine city based on latitude and longitude\n",
    "from citipy import citipy\n",
    "\n",
    "# Output\n",
    "output_data_file = \"WeatherPy_output.csv\"\n",
    "\n",
    "# Range of Latitudes and Longitudes\n",
    "lat_range = (-90, 90)\n",
    "ing_range = (-180, 180)"
   ]
  },
  {
   "cell_type": "code",
   "execution_count": 3,
   "metadata": {},
   "outputs": [
    {
     "data": {
      "text/plain": [
       "608"
      ]
     },
     "execution_count": 3,
     "metadata": {},
     "output_type": "execute_result"
    }
   ],
   "source": [
    " # Create lists to hold response data for lat_lngs and cities\n",
    "lat_lngs = []\n",
    "cities = []\n",
    "\n",
    "while len(cities) < 500:\n",
    "    \n",
    "    lats = np.random.uniform(low=-90.000, high=90.000, size=1500)\n",
    "    lngs = np.random.uniform(low=-180.000, high=180.000, size=1500)\n",
    "    lat_lngs = zip(lats, lngs)\n",
    "\n",
    "    for lat_lng in lat_lngs:\n",
    "        city = citipy.nearest_city(lat_lng[0], lat_lng[1]).city_name\n",
    "\n",
    "        if city not in cities:\n",
    "            cities.append(city)\n",
    "\n",
    "# Numbers of City\n",
    "len(cities)"
   ]
  },
  {
   "cell_type": "code",
   "execution_count": 4,
   "metadata": {},
   "outputs": [
    {
     "name": "stdout",
     "output_type": "stream",
     "text": [
      "http://api.openweathermap.org/data/2.5/weather?&q=tsihombe&APPID=c1f1e3f8740ef5ed1f19462faa9b3232\n"
     ]
    }
   ],
   "source": [
    "import pprint\n",
    "pp = pprint.PrettyPrinter(indent=4)\n",
    "\n",
    "c_id= []\n",
    "name = []\n",
    "country = []\n",
    "long = []\n",
    "latt = []\n",
    "cloudiness= []\n",
    "date= []\n",
    "humidity= []\n",
    "max_temp = []\n",
    "wind_speed = []\n",
    "weather_json = {}\n",
    "\n",
    "try:\n",
    "    url = \"http://api.openweathermap.org/data/2.5/weather?\"\n",
    "\n",
    "    for city in cities:\n",
    "        query_url = url + \"&q=\" + city + \"&APPID=\" + weather_api_key \n",
    "        weather_response = requests.get(query_url)\n",
    "        weather_json = weather_response.json()\n",
    "        \n",
    "        \n",
    "        c_id.append(str(weather_json['id']))\n",
    "        name.append(str(weather_json['name']))\n",
    "        country.append(str(weather_json['sys']['country']))\n",
    "        long.append(float(round(weather_json['coord']['lon'],2)))\n",
    "        latt.append(float(round(weather_json['coord']['lat'],2)))\n",
    "        cloudiness.append(float(weather_json['clouds']['all']))\n",
    "        #date.append(str(datetime.datetime.fromtimestamp(weather_json['dt']).strftime(\"%A, %d. %B %Y %I:%M%p\")))\n",
    "        humidity.append(float(weather_json['main']['humidity']))\n",
    "        max_temp.append((1.8*(weather_json['main']['temp_max'] - 273) + 32))\n",
    "        wind_speed.append(float(weather_json['wind']['speed']))\n",
    "        \n",
    "except KeyError:\n",
    "    \n",
    "    pass\n",
    "\n",
    "print(query_url)\n"
   ]
  },
  {
   "cell_type": "code",
   "execution_count": null,
   "metadata": {},
   "outputs": [],
   "source": []
  }
 ],
 "metadata": {
  "kernelspec": {
   "display_name": "Python 3",
   "language": "python",
   "name": "python3"
  },
  "language_info": {
   "codemirror_mode": {
    "name": "ipython",
    "version": 3
   },
   "file_extension": ".py",
   "mimetype": "text/x-python",
   "name": "python",
   "nbconvert_exporter": "python",
   "pygments_lexer": "ipython3",
   "version": "3.6.10"
  }
 },
 "nbformat": 4,
 "nbformat_minor": 4
}
